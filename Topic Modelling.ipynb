{
 "cells": [
  {
   "cell_type": "markdown",
   "metadata": {},
   "source": [
    "# import Data"
   ]
  },
  {
   "cell_type": "markdown",
   "metadata": {},
   "source": [
    "I had taken refrence from Topic Modeling and Latent Dirichlet Allocation (LDA) in Python from toward data science article by Susan Li"
   ]
  },
  {
   "cell_type": "code",
   "execution_count": 1,
   "metadata": {},
   "outputs": [
    {
     "data": {
      "text/html": [
       "<div>\n",
       "<style scoped>\n",
       "    .dataframe tbody tr th:only-of-type {\n",
       "        vertical-align: middle;\n",
       "    }\n",
       "\n",
       "    .dataframe tbody tr th {\n",
       "        vertical-align: top;\n",
       "    }\n",
       "\n",
       "    .dataframe thead th {\n",
       "        text-align: right;\n",
       "    }\n",
       "</style>\n",
       "<table border=\"1\" class=\"dataframe\">\n",
       "  <thead>\n",
       "    <tr style=\"text-align: right;\">\n",
       "      <th></th>\n",
       "      <th>publish_date</th>\n",
       "      <th>headline_text</th>\n",
       "    </tr>\n",
       "  </thead>\n",
       "  <tbody>\n",
       "    <tr>\n",
       "      <th>0</th>\n",
       "      <td>20030219</td>\n",
       "      <td>aba decides against community broadcasting lic...</td>\n",
       "    </tr>\n",
       "    <tr>\n",
       "      <th>1</th>\n",
       "      <td>20030219</td>\n",
       "      <td>act fire witnesses must be aware of defamation</td>\n",
       "    </tr>\n",
       "    <tr>\n",
       "      <th>2</th>\n",
       "      <td>20030219</td>\n",
       "      <td>a g calls for infrastructure protection summit</td>\n",
       "    </tr>\n",
       "    <tr>\n",
       "      <th>3</th>\n",
       "      <td>20030219</td>\n",
       "      <td>air nz staff in aust strike for pay rise</td>\n",
       "    </tr>\n",
       "    <tr>\n",
       "      <th>4</th>\n",
       "      <td>20030219</td>\n",
       "      <td>air nz strike to affect australian travellers</td>\n",
       "    </tr>\n",
       "  </tbody>\n",
       "</table>\n",
       "</div>"
      ],
      "text/plain": [
       "   publish_date                                      headline_text\n",
       "0      20030219  aba decides against community broadcasting lic...\n",
       "1      20030219     act fire witnesses must be aware of defamation\n",
       "2      20030219     a g calls for infrastructure protection summit\n",
       "3      20030219           air nz staff in aust strike for pay rise\n",
       "4      20030219      air nz strike to affect australian travellers"
      ]
     },
     "execution_count": 1,
     "metadata": {},
     "output_type": "execute_result"
    }
   ],
   "source": [
    "import pandas as pd\n",
    "data=pd.read_csv('abcnews-date-text.csv', error_bad_lines=False);\n",
    "data.head(5)"
   ]
  },
  {
   "cell_type": "code",
   "execution_count": 2,
   "metadata": {},
   "outputs": [
    {
     "name": "stdout",
     "output_type": "stream",
     "text": [
      "1103663\n"
     ]
    },
    {
     "data": {
      "text/html": [
       "<div>\n",
       "<style scoped>\n",
       "    .dataframe tbody tr th:only-of-type {\n",
       "        vertical-align: middle;\n",
       "    }\n",
       "\n",
       "    .dataframe tbody tr th {\n",
       "        vertical-align: top;\n",
       "    }\n",
       "\n",
       "    .dataframe thead th {\n",
       "        text-align: right;\n",
       "    }\n",
       "</style>\n",
       "<table border=\"1\" class=\"dataframe\">\n",
       "  <thead>\n",
       "    <tr style=\"text-align: right;\">\n",
       "      <th></th>\n",
       "      <th>headline_text</th>\n",
       "      <th>index</th>\n",
       "    </tr>\n",
       "  </thead>\n",
       "  <tbody>\n",
       "    <tr>\n",
       "      <th>0</th>\n",
       "      <td>aba decides against community broadcasting lic...</td>\n",
       "      <td>0</td>\n",
       "    </tr>\n",
       "    <tr>\n",
       "      <th>1</th>\n",
       "      <td>act fire witnesses must be aware of defamation</td>\n",
       "      <td>1</td>\n",
       "    </tr>\n",
       "    <tr>\n",
       "      <th>2</th>\n",
       "      <td>a g calls for infrastructure protection summit</td>\n",
       "      <td>2</td>\n",
       "    </tr>\n",
       "    <tr>\n",
       "      <th>3</th>\n",
       "      <td>air nz staff in aust strike for pay rise</td>\n",
       "      <td>3</td>\n",
       "    </tr>\n",
       "    <tr>\n",
       "      <th>4</th>\n",
       "      <td>air nz strike to affect australian travellers</td>\n",
       "      <td>4</td>\n",
       "    </tr>\n",
       "  </tbody>\n",
       "</table>\n",
       "</div>"
      ],
      "text/plain": [
       "                                       headline_text  index\n",
       "0  aba decides against community broadcasting lic...      0\n",
       "1     act fire witnesses must be aware of defamation      1\n",
       "2     a g calls for infrastructure protection summit      2\n",
       "3           air nz staff in aust strike for pay rise      3\n",
       "4      air nz strike to affect australian travellers      4"
      ]
     },
     "execution_count": 2,
     "metadata": {},
     "output_type": "execute_result"
    }
   ],
   "source": [
    "data_text=data[['headline_text']]\n",
    "data_text['index']=data_text.index\n",
    "text=data_text\n",
    "print(len(text))\n",
    "text.head(5)"
   ]
  },
  {
   "cell_type": "markdown",
   "metadata": {},
   "source": [
    "# preprocess Data"
   ]
  },
  {
   "cell_type": "code",
   "execution_count": 3,
   "metadata": {},
   "outputs": [
    {
     "name": "stderr",
     "output_type": "stream",
     "text": [
      "C:\\Users\\aiman\\Anaconda3\\lib\\site-packages\\gensim\\utils.py:1197: UserWarning: detected Windows; aliasing chunkize to chunkize_serial\n",
      "  warnings.warn(\"detected Windows; aliasing chunkize to chunkize_serial\")\n",
      "[nltk_data] Downloading package wordnet to\n",
      "[nltk_data]     C:\\Users\\aiman\\AppData\\Roaming\\nltk_data...\n",
      "[nltk_data]   Package wordnet is already up-to-date!\n"
     ]
    },
    {
     "data": {
      "text/plain": [
       "True"
      ]
     },
     "execution_count": 3,
     "metadata": {},
     "output_type": "execute_result"
    }
   ],
   "source": [
    "import gensim\n",
    "from gensim.parsing.preprocessing import STOPWORDS\n",
    "import numpy as np\n",
    "np.random.seed(2018)\n",
    "from nltk.stem import WordNetLemmatizer,SnowballStemmer\n",
    "from nltk.stem.porter import *\n",
    "import nltk\n",
    "nltk.download('wordnet')"
   ]
  },
  {
   "cell_type": "code",
   "execution_count": 4,
   "metadata": {},
   "outputs": [],
   "source": [
    "def lemmatize(text):\n",
    "    return PorterStemmer().stem(WordNetLemmatizer().lemmatize(text,'v'))\n",
    "def preprocess(text):\n",
    "    result=[]\n",
    "    for token in gensim.utils.simple_preprocess(text):\n",
    "        if token not in STOPWORDS and len(token)>3:\n",
    "            result.append(lemmatize(token))\n",
    "    return result"
   ]
  },
  {
   "cell_type": "code",
   "execution_count": 5,
   "metadata": {},
   "outputs": [
    {
     "name": "stdout",
     "output_type": "stream",
     "text": [
      "0\n",
      "before preprocessing\n",
      " ['rain', 'helps', 'dampen', 'bushfires']\n",
      "['rain', 'help', 'dampen', 'bushfir'] hhh\n"
     ]
    }
   ],
   "source": [
    "print(text['headline_text'].isnull().sum())\n",
    "doc_sample = text[text['index'] == 4310].astype(str).values[0][0]\n",
    "words = doc_sample.split(' ')\n",
    "print(\"before preprocessing\\n\",words)\n",
    "p=preprocess(doc_sample)\n",
    "print(p,'hhh')"
   ]
  },
  {
   "cell_type": "code",
   "execution_count": 6,
   "metadata": {},
   "outputs": [
    {
     "data": {
      "text/plain": [
       "'rain helps dampen bushfires'"
      ]
     },
     "execution_count": 6,
     "metadata": {},
     "output_type": "execute_result"
    }
   ],
   "source": [
    "doc_sample"
   ]
  },
  {
   "cell_type": "code",
   "execution_count": 7,
   "metadata": {},
   "outputs": [
    {
     "data": {
      "text/plain": [
       "0        [decid, commun, broadcast, licenc]\n",
       "1                        [wit, awar, defam]\n",
       "2    [call, infrastructur, protect, summit]\n",
       "3               [staff, aust, strike, rise]\n",
       "4      [strike, affect, australian, travel]\n",
       "Name: headline_text, dtype: object"
      ]
     },
     "execution_count": 7,
     "metadata": {},
     "output_type": "execute_result"
    }
   ],
   "source": [
    "text_pre = text['headline_text'].map(preprocess)\n",
    "text_pre.head(5)"
   ]
  },
  {
   "cell_type": "markdown",
   "metadata": {},
   "source": [
    "# Bag of words"
   ]
  },
  {
   "cell_type": "code",
   "execution_count": 8,
   "metadata": {},
   "outputs": [],
   "source": [
    "#the number of times a word appears in the training set.\n",
    "dictionary = gensim.corpora.Dictionary(text_pre)"
   ]
  },
  {
   "cell_type": "code",
   "execution_count": 9,
   "metadata": {},
   "outputs": [],
   "source": [
    "#Filter out tokens that appear in dictonary\n",
    "dictionary.filter_extremes(no_below=15, no_above=0.5, keep_n=100000)"
   ]
  },
  {
   "cell_type": "code",
   "execution_count": 10,
   "metadata": {},
   "outputs": [],
   "source": [
    "#For each document we create a dictionary reporting how many\n",
    "#words and how many times those words appear\n",
    "bow_corpus = [dictionary.doc2bow(doc) for doc in text_pre]"
   ]
  },
  {
   "cell_type": "markdown",
   "metadata": {},
   "source": [
    "# LDA Bag of Words model"
   ]
  },
  {
   "cell_type": "code",
   "execution_count": 11,
   "metadata": {},
   "outputs": [],
   "source": [
    "lda_model = gensim.models.LdaMulticore(bow_corpus, num_topics=10, id2word=dictionary, passes=2, workers=2)"
   ]
  },
  {
   "cell_type": "code",
   "execution_count": 12,
   "metadata": {
    "scrolled": true
   },
   "outputs": [
    {
     "name": "stdout",
     "output_type": "stream",
     "text": [
      "Topic: 0 \n",
      "Words: 0.024*\"world\" + 0.022*\"adelaid\" + 0.018*\"market\" + 0.014*\"power\" + 0.013*\"record\" + 0.013*\"share\" + 0.012*\"trial\" + 0.012*\"leagu\" + 0.011*\"fall\" + 0.011*\"tasmania\"\n",
      "Topic: 1 \n",
      "Words: 0.021*\"say\" + 0.019*\"north\" + 0.016*\"elect\" + 0.012*\"labor\" + 0.011*\"minist\" + 0.010*\"victoria\" + 0.010*\"health\" + 0.009*\"state\" + 0.009*\"talk\" + 0.009*\"budget\"\n",
      "Topic: 2 \n",
      "Words: 0.029*\"charg\" + 0.028*\"court\" + 0.021*\"murder\" + 0.019*\"polic\" + 0.018*\"face\" + 0.017*\"year\" + 0.015*\"jail\" + 0.014*\"accus\" + 0.013*\"drug\" + 0.013*\"child\"\n",
      "Topic: 3 \n",
      "Words: 0.017*\"donald\" + 0.015*\"turnbul\" + 0.014*\"deal\" + 0.012*\"say\" + 0.012*\"famili\" + 0.011*\"centr\" + 0.011*\"christma\" + 0.010*\"drum\" + 0.009*\"research\" + 0.009*\"island\"\n",
      "Topic: 4 \n",
      "Words: 0.038*\"polic\" + 0.022*\"coast\" + 0.019*\"interview\" + 0.018*\"miss\" + 0.018*\"perth\" + 0.018*\"shoot\" + 0.015*\"investig\" + 0.014*\"gold\" + 0.013*\"death\" + 0.011*\"victim\"\n",
      "Topic: 5 \n",
      "Words: 0.026*\"kill\" + 0.021*\"die\" + 0.021*\"countri\" + 0.020*\"live\" + 0.016*\"crash\" + 0.014*\"dead\" + 0.014*\"train\" + 0.013*\"citi\" + 0.010*\"media\" + 0.009*\"festiv\"\n",
      "Topic: 6 \n",
      "Words: 0.035*\"trump\" + 0.023*\"south\" + 0.021*\"hous\" + 0.017*\"brisban\" + 0.016*\"plan\" + 0.014*\"hour\" + 0.014*\"water\" + 0.013*\"council\" + 0.013*\"break\" + 0.012*\"farmer\"\n",
      "Topic: 7 \n",
      "Words: 0.021*\"govern\" + 0.014*\"rural\" + 0.013*\"indigen\" + 0.012*\"work\" + 0.012*\"fund\" + 0.011*\"school\" + 0.010*\"return\" + 0.010*\"busi\" + 0.010*\"feder\" + 0.010*\"flood\"\n",
      "Topic: 8 \n",
      "Words: 0.033*\"sydney\" + 0.022*\"australia\" + 0.017*\"final\" + 0.015*\"rise\" + 0.014*\"test\" + 0.014*\"peopl\" + 0.012*\"lose\" + 0.011*\"guilti\" + 0.010*\"leader\" + 0.010*\"hobart\"\n",
      "Topic: 9 \n",
      "Words: 0.028*\"queensland\" + 0.015*\"win\" + 0.012*\"chang\" + 0.011*\"australian\" + 0.010*\"victorian\" + 0.010*\"port\" + 0.010*\"women\" + 0.010*\"public\" + 0.009*\"year\" + 0.009*\"take\"\n"
     ]
    }
   ],
   "source": [
    "for idx, topic in lda_model.print_topics(-1):\n",
    "    print('Topic: {} \\nWords: {}'.format(idx, topic))"
   ]
  },
  {
   "cell_type": "markdown",
   "metadata": {},
   "source": [
    "# Testing model on unseen document"
   ]
  },
  {
   "cell_type": "code",
   "execution_count": 13,
   "metadata": {},
   "outputs": [
    {
     "name": "stdout",
     "output_type": "stream",
     "text": [
      "Score: 0.34999993443489075\t Topic: 0.021*\"say\" + 0.019*\"north\" + 0.016*\"elect\" + 0.012*\"labor\" + 0.011*\"minist\"\n",
      "Score: 0.1833333522081375\t Topic: 0.017*\"donald\" + 0.015*\"turnbul\" + 0.014*\"deal\" + 0.012*\"say\" + 0.012*\"famili\"\n",
      "Score: 0.18333333730697632\t Topic: 0.024*\"world\" + 0.022*\"adelaid\" + 0.018*\"market\" + 0.014*\"power\" + 0.013*\"record\"\n",
      "Score: 0.18333333730697632\t Topic: 0.038*\"polic\" + 0.022*\"coast\" + 0.019*\"interview\" + 0.018*\"miss\" + 0.018*\"perth\"\n",
      "Score: 0.01666666753590107\t Topic: 0.029*\"charg\" + 0.028*\"court\" + 0.021*\"murder\" + 0.019*\"polic\" + 0.018*\"face\"\n",
      "Score: 0.01666666753590107\t Topic: 0.026*\"kill\" + 0.021*\"die\" + 0.021*\"countri\" + 0.020*\"live\" + 0.016*\"crash\"\n",
      "Score: 0.01666666753590107\t Topic: 0.035*\"trump\" + 0.023*\"south\" + 0.021*\"hous\" + 0.017*\"brisban\" + 0.016*\"plan\"\n",
      "Score: 0.01666666753590107\t Topic: 0.021*\"govern\" + 0.014*\"rural\" + 0.013*\"indigen\" + 0.012*\"work\" + 0.012*\"fund\"\n",
      "Score: 0.01666666753590107\t Topic: 0.033*\"sydney\" + 0.022*\"australia\" + 0.017*\"final\" + 0.015*\"rise\" + 0.014*\"test\"\n",
      "Score: 0.01666666753590107\t Topic: 0.028*\"queensland\" + 0.015*\"win\" + 0.012*\"chang\" + 0.011*\"australian\" + 0.010*\"victorian\"\n"
     ]
    }
   ],
   "source": [
    "unseen_document = 'How a Pentagon deal became an identity crisis for Google'\n",
    "bow_vector = dictionary.doc2bow(preprocess(unseen_document))\n",
    "for index, score in sorted(lda_model[bow_vector], key=lambda tup: -1*tup[1]):\n",
    "    print(\"Score: {}\\t Topic: {}\".format(score, lda_model.print_topic(index, 5)))"
   ]
  }
 ],
 "metadata": {
  "kernelspec": {
   "display_name": "Python 3",
   "language": "python",
   "name": "python3"
  },
  "language_info": {
   "codemirror_mode": {
    "name": "ipython",
    "version": 3
   },
   "file_extension": ".py",
   "mimetype": "text/x-python",
   "name": "python",
   "nbconvert_exporter": "python",
   "pygments_lexer": "ipython3",
   "version": "3.7.3"
  }
 },
 "nbformat": 4,
 "nbformat_minor": 2
}
